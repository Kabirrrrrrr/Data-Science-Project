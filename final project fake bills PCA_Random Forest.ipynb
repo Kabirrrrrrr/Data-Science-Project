{
 "cells": [
  {
   "cell_type": "code",
   "execution_count": 1,
   "id": "529b0dd4",
   "metadata": {
    "ExecuteTime": {
     "end_time": "2023-03-24T09:46:02.945410Z",
     "start_time": "2023-03-24T09:46:00.347494Z"
    }
   },
   "outputs": [],
   "source": [
    "import pandas as pd\n",
    "import numpy as np\n",
    "import seaborn as sns\n",
    "import matplotlib.pyplot as plt\n",
    "%matplotlib inline\n",
    "from sklearn import preprocessing\n",
    "from sklearn.preprocessing import StandardScaler\n",
    "from sklearn.model_selection import train_test_split\n",
    "from sklearn.metrics import confusion_matrix,classification_report\n",
    "from sklearn.decomposition import PCA\n",
    "from sklearn.model_selection import KFold\n",
    "from sklearn.model_selection import cross_val_score\n",
    "from sklearn.metrics import accuracy_score\n",
    "from sklearn.ensemble import RandomForestClassifier\n",
    "import warnings\n",
    "warnings.filterwarnings ('ignore')"
   ]
  },
  {
   "cell_type": "code",
   "execution_count": 5,
   "id": "fe6ed7c8",
   "metadata": {
    "ExecuteTime": {
     "end_time": "2023-03-24T09:48:00.276465Z",
     "start_time": "2023-03-24T09:48:00.214020Z"
    }
   },
   "outputs": [
    {
     "data": {
      "text/html": [
       "<div>\n",
       "<style scoped>\n",
       "    .dataframe tbody tr th:only-of-type {\n",
       "        vertical-align: middle;\n",
       "    }\n",
       "\n",
       "    .dataframe tbody tr th {\n",
       "        vertical-align: top;\n",
       "    }\n",
       "\n",
       "    .dataframe thead th {\n",
       "        text-align: right;\n",
       "    }\n",
       "</style>\n",
       "<table border=\"1\" class=\"dataframe\">\n",
       "  <thead>\n",
       "    <tr style=\"text-align: right;\">\n",
       "      <th></th>\n",
       "      <th>is_genuine</th>\n",
       "      <th>diagonal</th>\n",
       "      <th>height_left</th>\n",
       "      <th>height_right</th>\n",
       "      <th>margin_up</th>\n",
       "      <th>length</th>\n",
       "      <th>margin_low</th>\n",
       "    </tr>\n",
       "  </thead>\n",
       "  <tbody>\n",
       "    <tr>\n",
       "      <th>0</th>\n",
       "      <td>1</td>\n",
       "      <td>171.81</td>\n",
       "      <td>104.86</td>\n",
       "      <td>104.95</td>\n",
       "      <td>2.89</td>\n",
       "      <td>112.83</td>\n",
       "      <td>4.520000</td>\n",
       "    </tr>\n",
       "    <tr>\n",
       "      <th>1</th>\n",
       "      <td>1</td>\n",
       "      <td>171.46</td>\n",
       "      <td>103.36</td>\n",
       "      <td>103.66</td>\n",
       "      <td>2.99</td>\n",
       "      <td>113.09</td>\n",
       "      <td>3.770000</td>\n",
       "    </tr>\n",
       "    <tr>\n",
       "      <th>2</th>\n",
       "      <td>1</td>\n",
       "      <td>172.69</td>\n",
       "      <td>104.48</td>\n",
       "      <td>103.50</td>\n",
       "      <td>2.94</td>\n",
       "      <td>113.16</td>\n",
       "      <td>4.400000</td>\n",
       "    </tr>\n",
       "    <tr>\n",
       "      <th>3</th>\n",
       "      <td>1</td>\n",
       "      <td>171.36</td>\n",
       "      <td>103.91</td>\n",
       "      <td>103.94</td>\n",
       "      <td>3.01</td>\n",
       "      <td>113.51</td>\n",
       "      <td>3.620000</td>\n",
       "    </tr>\n",
       "    <tr>\n",
       "      <th>4</th>\n",
       "      <td>1</td>\n",
       "      <td>171.73</td>\n",
       "      <td>104.28</td>\n",
       "      <td>103.46</td>\n",
       "      <td>3.48</td>\n",
       "      <td>112.54</td>\n",
       "      <td>4.040000</td>\n",
       "    </tr>\n",
       "    <tr>\n",
       "      <th>...</th>\n",
       "      <td>...</td>\n",
       "      <td>...</td>\n",
       "      <td>...</td>\n",
       "      <td>...</td>\n",
       "      <td>...</td>\n",
       "      <td>...</td>\n",
       "      <td>...</td>\n",
       "    </tr>\n",
       "    <tr>\n",
       "      <th>1495</th>\n",
       "      <td>0</td>\n",
       "      <td>172.17</td>\n",
       "      <td>104.49</td>\n",
       "      <td>103.76</td>\n",
       "      <td>2.93</td>\n",
       "      <td>111.21</td>\n",
       "      <td>5.302069</td>\n",
       "    </tr>\n",
       "    <tr>\n",
       "      <th>1496</th>\n",
       "      <td>0</td>\n",
       "      <td>172.08</td>\n",
       "      <td>104.15</td>\n",
       "      <td>104.17</td>\n",
       "      <td>3.40</td>\n",
       "      <td>112.29</td>\n",
       "      <td>5.200358</td>\n",
       "    </tr>\n",
       "    <tr>\n",
       "      <th>1497</th>\n",
       "      <td>0</td>\n",
       "      <td>171.72</td>\n",
       "      <td>104.46</td>\n",
       "      <td>104.12</td>\n",
       "      <td>3.61</td>\n",
       "      <td>110.31</td>\n",
       "      <td>5.175468</td>\n",
       "    </tr>\n",
       "    <tr>\n",
       "      <th>1498</th>\n",
       "      <td>0</td>\n",
       "      <td>172.66</td>\n",
       "      <td>104.33</td>\n",
       "      <td>104.41</td>\n",
       "      <td>3.56</td>\n",
       "      <td>111.47</td>\n",
       "      <td>5.173450</td>\n",
       "    </tr>\n",
       "    <tr>\n",
       "      <th>1499</th>\n",
       "      <td>0</td>\n",
       "      <td>171.90</td>\n",
       "      <td>104.28</td>\n",
       "      <td>104.29</td>\n",
       "      <td>3.24</td>\n",
       "      <td>111.49</td>\n",
       "      <td>5.246751</td>\n",
       "    </tr>\n",
       "  </tbody>\n",
       "</table>\n",
       "<p>1500 rows × 7 columns</p>\n",
       "</div>"
      ],
      "text/plain": [
       "      is_genuine  diagonal  height_left  height_right  margin_up  length  \\\n",
       "0              1    171.81       104.86        104.95       2.89  112.83   \n",
       "1              1    171.46       103.36        103.66       2.99  113.09   \n",
       "2              1    172.69       104.48        103.50       2.94  113.16   \n",
       "3              1    171.36       103.91        103.94       3.01  113.51   \n",
       "4              1    171.73       104.28        103.46       3.48  112.54   \n",
       "...          ...       ...          ...           ...        ...     ...   \n",
       "1495           0    172.17       104.49        103.76       2.93  111.21   \n",
       "1496           0    172.08       104.15        104.17       3.40  112.29   \n",
       "1497           0    171.72       104.46        104.12       3.61  110.31   \n",
       "1498           0    172.66       104.33        104.41       3.56  111.47   \n",
       "1499           0    171.90       104.28        104.29       3.24  111.49   \n",
       "\n",
       "      margin_low  \n",
       "0       4.520000  \n",
       "1       3.770000  \n",
       "2       4.400000  \n",
       "3       3.620000  \n",
       "4       4.040000  \n",
       "...          ...  \n",
       "1495    5.302069  \n",
       "1496    5.200358  \n",
       "1497    5.175468  \n",
       "1498    5.173450  \n",
       "1499    5.246751  \n",
       "\n",
       "[1500 rows x 7 columns]"
      ]
     },
     "execution_count": 5,
     "metadata": {},
     "output_type": "execute_result"
    }
   ],
   "source": [
    "df=pd.read_csv(r\"D:\\Data Science\\Project\\fake_bills__cleaned.csv\", sep=',')\n",
    "df"
   ]
  },
  {
   "cell_type": "markdown",
   "id": "027c1a75",
   "metadata": {},
   "source": [
    "## PCA"
   ]
  },
  {
   "cell_type": "code",
   "execution_count": 8,
   "id": "ec5f8f4b",
   "metadata": {
    "ExecuteTime": {
     "end_time": "2023-03-24T09:49:04.256671Z",
     "start_time": "2023-03-24T09:49:04.240961Z"
    }
   },
   "outputs": [],
   "source": [
    "x = df.iloc[:,1:]\n",
    "y= df['is_genuine']"
   ]
  },
  {
   "cell_type": "code",
   "execution_count": 9,
   "id": "e2da0187",
   "metadata": {
    "ExecuteTime": {
     "end_time": "2023-03-24T09:49:16.847348Z",
     "start_time": "2023-03-24T09:49:16.815696Z"
    }
   },
   "outputs": [
    {
     "data": {
      "text/plain": [
       "array([[-0.48653957,  2.77412327,  3.16324041, -1.128325  ,  0.17365114,\n",
       "         0.0563237 ],\n",
       "       [-1.63372936, -2.23653528, -0.79966777, -0.69679916,  0.47166629,\n",
       "        -1.08059227],\n",
       "       [ 2.3978233 ,  1.50475644, -1.29119126, -0.91256208,  0.55190114,\n",
       "        -0.12558286],\n",
       "       ...,\n",
       "       [-0.78153123,  1.43794766,  0.61346228,  1.97866106, -2.71480344,\n",
       "         1.04993944],\n",
       "       [ 2.29949275,  1.00369058,  1.50434862,  1.76289814, -1.38519737,\n",
       "         1.04688137],\n",
       "       [-0.19154792,  0.83666863,  1.135706  ,  0.38201544, -1.36227312,\n",
       "         1.1579961 ]])"
      ]
     },
     "execution_count": 9,
     "metadata": {},
     "output_type": "execute_result"
    }
   ],
   "source": [
    "s=StandardScaler()\n",
    "x1=s.fit_transform(x)\n",
    "x1"
   ]
  },
  {
   "cell_type": "code",
   "execution_count": 10,
   "id": "194bc937",
   "metadata": {
    "ExecuteTime": {
     "end_time": "2023-03-24T09:49:26.066323Z",
     "start_time": "2023-03-24T09:49:25.954883Z"
    }
   },
   "outputs": [
    {
     "data": {
      "text/plain": [
       "array([[ 1.64752398,  0.74687568,  2.39291535,  3.18640502,  0.30576617,\n",
       "        -0.01194549],\n",
       "       [-2.01970332, -2.20674552, -1.00261896,  0.0709126 ,  0.03725493,\n",
       "        -0.47509937],\n",
       "       [-0.96900713,  2.61932079,  1.20196657, -0.9213195 , -0.83779319,\n",
       "         0.19721042],\n",
       "       ...,\n",
       "       [ 3.61755783, -0.44487944,  0.33992456, -0.91071859,  0.37064106,\n",
       "        -1.03705178],\n",
       "       [ 2.76531715,  2.48452537, -0.81856661, -0.10321789,  0.42204761,\n",
       "        -0.04465403],\n",
       "       [ 2.21387029,  0.04734698,  0.17537784,  0.44854801, -0.4254181 ,\n",
       "        -0.22981579]])"
      ]
     },
     "execution_count": 10,
     "metadata": {},
     "output_type": "execute_result"
    }
   ],
   "source": [
    "pca=PCA()\n",
    "pca_values=pca.fit_transform(x1)\n",
    "pca_values"
   ]
  },
  {
   "cell_type": "code",
   "execution_count": 11,
   "id": "0776d910",
   "metadata": {
    "ExecuteTime": {
     "end_time": "2023-03-24T09:49:34.693359Z",
     "start_time": "2023-03-24T09:49:34.678199Z"
    }
   },
   "outputs": [
    {
     "data": {
      "text/plain": [
       "array([0.43211292, 0.16957177, 0.1301927 , 0.11824046, 0.09663102,\n",
       "       0.05325112])"
      ]
     },
     "execution_count": 11,
     "metadata": {},
     "output_type": "execute_result"
    }
   ],
   "source": [
    "var = pca.explained_variance_ratio_\n",
    "var"
   ]
  },
  {
   "cell_type": "code",
   "execution_count": 12,
   "id": "8300a0c3",
   "metadata": {
    "ExecuteTime": {
     "end_time": "2023-03-24T09:49:51.070219Z",
     "start_time": "2023-03-24T09:49:51.059849Z"
    }
   },
   "outputs": [
    {
     "data": {
      "text/plain": [
       "array([ 43.21,  60.17,  73.19,  85.01,  94.67, 100.  ])"
      ]
     },
     "execution_count": 12,
     "metadata": {},
     "output_type": "execute_result"
    }
   ],
   "source": [
    "var1 = np.cumsum(np.round(var,decimals = 4)*100)\n",
    "var1"
   ]
  },
  {
   "cell_type": "code",
   "execution_count": 13,
   "id": "16f9a057",
   "metadata": {
    "ExecuteTime": {
     "end_time": "2023-03-24T09:50:00.900084Z",
     "start_time": "2023-03-24T09:50:00.635746Z"
    }
   },
   "outputs": [
    {
     "data": {
      "text/plain": [
       "[<matplotlib.lines.Line2D at 0x1c371dd52e0>]"
      ]
     },
     "execution_count": 13,
     "metadata": {},
     "output_type": "execute_result"
    },
    {
     "data": {
      "image/png": "[encoded data removed]",
      "text/plain": [
       "<Figure size 640x480 with 1 Axes>"
      ]
     },
     "metadata": {},
     "output_type": "display_data"
    }
   ],
   "source": [
    "plt.plot(var1,color=\"red\")"
   ]
  },
  {
   "cell_type": "code",
   "execution_count": 14,
   "id": "008688d4",
   "metadata": {
    "ExecuteTime": {
     "end_time": "2023-03-24T09:50:12.749990Z",
     "start_time": "2023-03-24T09:50:12.711221Z"
    }
   },
   "outputs": [
    {
     "data": {
      "text/plain": [
       "array([[ 1.64752398,  0.74687568,  2.39291535,  3.18640502],\n",
       "       [-2.01970332, -2.20674552, -1.00261896,  0.0709126 ],\n",
       "       [-0.96900713,  2.61932079,  1.20196657, -0.9213195 ],\n",
       "       ...,\n",
       "       [ 3.61755783, -0.44487944,  0.33992456, -0.91071859],\n",
       "       [ 2.76531715,  2.48452537, -0.81856661, -0.10321789],\n",
       "       [ 2.21387029,  0.04734698,  0.17537784,  0.44854801]])"
      ]
     },
     "execution_count": 14,
     "metadata": {},
     "output_type": "execute_result"
    }
   ],
   "source": [
    "pca = PCA(n_components=4)\n",
    "pca_values = pca.fit_transform(x1)\n",
    "pca_values"
   ]
  },
  {
   "cell_type": "code",
   "execution_count": 15,
   "id": "0ffb4d13",
   "metadata": {
    "ExecuteTime": {
     "end_time": "2023-03-24T09:50:21.031824Z",
     "start_time": "2023-03-24T09:50:21.006152Z"
    }
   },
   "outputs": [
    {
     "data": {
      "text/plain": [
       "array([0.43211292, 0.16957177, 0.1301927 , 0.11824046])"
      ]
     },
     "execution_count": 15,
     "metadata": {},
     "output_type": "execute_result"
    }
   ],
   "source": [
    "var = pca.explained_variance_ratio_\n",
    "var"
   ]
  },
  {
   "cell_type": "code",
   "execution_count": 16,
   "id": "78999aee",
   "metadata": {
    "ExecuteTime": {
     "end_time": "2023-03-24T09:50:35.122624Z",
     "start_time": "2023-03-24T09:50:35.075353Z"
    }
   },
   "outputs": [
    {
     "data": {
      "text/html": [
       "<div>\n",
       "<style scoped>\n",
       "    .dataframe tbody tr th:only-of-type {\n",
       "        vertical-align: middle;\n",
       "    }\n",
       "\n",
       "    .dataframe tbody tr th {\n",
       "        vertical-align: top;\n",
       "    }\n",
       "\n",
       "    .dataframe thead th {\n",
       "        text-align: right;\n",
       "    }\n",
       "</style>\n",
       "<table border=\"1\" class=\"dataframe\">\n",
       "  <thead>\n",
       "    <tr style=\"text-align: right;\">\n",
       "      <th></th>\n",
       "      <th>pc1</th>\n",
       "      <th>pc2</th>\n",
       "      <th>pc3</th>\n",
       "      <th>pc4</th>\n",
       "    </tr>\n",
       "  </thead>\n",
       "  <tbody>\n",
       "    <tr>\n",
       "      <th>0</th>\n",
       "      <td>1.647524</td>\n",
       "      <td>0.746876</td>\n",
       "      <td>2.392915</td>\n",
       "      <td>3.186405</td>\n",
       "    </tr>\n",
       "    <tr>\n",
       "      <th>1</th>\n",
       "      <td>-2.019703</td>\n",
       "      <td>-2.206746</td>\n",
       "      <td>-1.002619</td>\n",
       "      <td>0.070913</td>\n",
       "    </tr>\n",
       "    <tr>\n",
       "      <th>2</th>\n",
       "      <td>-0.969007</td>\n",
       "      <td>2.619321</td>\n",
       "      <td>1.201967</td>\n",
       "      <td>-0.921319</td>\n",
       "    </tr>\n",
       "    <tr>\n",
       "      <th>3</th>\n",
       "      <td>-1.375629</td>\n",
       "      <td>-1.817808</td>\n",
       "      <td>0.646521</td>\n",
       "      <td>0.830747</td>\n",
       "    </tr>\n",
       "    <tr>\n",
       "      <th>4</th>\n",
       "      <td>0.150222</td>\n",
       "      <td>-0.566097</td>\n",
       "      <td>0.854019</td>\n",
       "      <td>-1.784685</td>\n",
       "    </tr>\n",
       "    <tr>\n",
       "      <th>...</th>\n",
       "      <td>...</td>\n",
       "      <td>...</td>\n",
       "      <td>...</td>\n",
       "      <td>...</td>\n",
       "    </tr>\n",
       "    <tr>\n",
       "      <th>1495</th>\n",
       "      <td>1.354191</td>\n",
       "      <td>0.903298</td>\n",
       "      <td>1.118973</td>\n",
       "      <td>-0.556256</td>\n",
       "    </tr>\n",
       "    <tr>\n",
       "      <th>1496</th>\n",
       "      <td>1.658666</td>\n",
       "      <td>0.476031</td>\n",
       "      <td>-0.359034</td>\n",
       "      <td>-0.048651</td>\n",
       "    </tr>\n",
       "    <tr>\n",
       "      <th>1497</th>\n",
       "      <td>3.617558</td>\n",
       "      <td>-0.444879</td>\n",
       "      <td>0.339925</td>\n",
       "      <td>-0.910719</td>\n",
       "    </tr>\n",
       "    <tr>\n",
       "      <th>1498</th>\n",
       "      <td>2.765317</td>\n",
       "      <td>2.484525</td>\n",
       "      <td>-0.818567</td>\n",
       "      <td>-0.103218</td>\n",
       "    </tr>\n",
       "    <tr>\n",
       "      <th>1499</th>\n",
       "      <td>2.213870</td>\n",
       "      <td>0.047347</td>\n",
       "      <td>0.175378</td>\n",
       "      <td>0.448548</td>\n",
       "    </tr>\n",
       "  </tbody>\n",
       "</table>\n",
       "<p>1500 rows × 4 columns</p>\n",
       "</div>"
      ],
      "text/plain": [
       "           pc1       pc2       pc3       pc4\n",
       "0     1.647524  0.746876  2.392915  3.186405\n",
       "1    -2.019703 -2.206746 -1.002619  0.070913\n",
       "2    -0.969007  2.619321  1.201967 -0.921319\n",
       "3    -1.375629 -1.817808  0.646521  0.830747\n",
       "4     0.150222 -0.566097  0.854019 -1.784685\n",
       "...        ...       ...       ...       ...\n",
       "1495  1.354191  0.903298  1.118973 -0.556256\n",
       "1496  1.658666  0.476031 -0.359034 -0.048651\n",
       "1497  3.617558 -0.444879  0.339925 -0.910719\n",
       "1498  2.765317  2.484525 -0.818567 -0.103218\n",
       "1499  2.213870  0.047347  0.175378  0.448548\n",
       "\n",
       "[1500 rows x 4 columns]"
      ]
     },
     "execution_count": 16,
     "metadata": {},
     "output_type": "execute_result"
    }
   ],
   "source": [
    "df1= pd.DataFrame(pca_values, columns=['pc1','pc2','pc3','pc4'])\n",
    "df1"
   ]
  },
  {
   "cell_type": "code",
   "execution_count": 17,
   "id": "0cfac26f",
   "metadata": {
    "ExecuteTime": {
     "end_time": "2023-03-24T09:50:53.088077Z",
     "start_time": "2023-03-24T09:50:53.056378Z"
    }
   },
   "outputs": [
    {
     "data": {
      "text/html": [
       "<div>\n",
       "<style scoped>\n",
       "    .dataframe tbody tr th:only-of-type {\n",
       "        vertical-align: middle;\n",
       "    }\n",
       "\n",
       "    .dataframe tbody tr th {\n",
       "        vertical-align: top;\n",
       "    }\n",
       "\n",
       "    .dataframe thead th {\n",
       "        text-align: right;\n",
       "    }\n",
       "</style>\n",
       "<table border=\"1\" class=\"dataframe\">\n",
       "  <thead>\n",
       "    <tr style=\"text-align: right;\">\n",
       "      <th></th>\n",
       "      <th>pc1</th>\n",
       "      <th>pc2</th>\n",
       "      <th>pc3</th>\n",
       "      <th>pc4</th>\n",
       "      <th>is_genuine</th>\n",
       "    </tr>\n",
       "  </thead>\n",
       "  <tbody>\n",
       "    <tr>\n",
       "      <th>0</th>\n",
       "      <td>1.647524</td>\n",
       "      <td>0.746876</td>\n",
       "      <td>2.392915</td>\n",
       "      <td>3.186405</td>\n",
       "      <td>1</td>\n",
       "    </tr>\n",
       "    <tr>\n",
       "      <th>1</th>\n",
       "      <td>-2.019703</td>\n",
       "      <td>-2.206746</td>\n",
       "      <td>-1.002619</td>\n",
       "      <td>0.070913</td>\n",
       "      <td>1</td>\n",
       "    </tr>\n",
       "    <tr>\n",
       "      <th>2</th>\n",
       "      <td>-0.969007</td>\n",
       "      <td>2.619321</td>\n",
       "      <td>1.201967</td>\n",
       "      <td>-0.921319</td>\n",
       "      <td>1</td>\n",
       "    </tr>\n",
       "    <tr>\n",
       "      <th>3</th>\n",
       "      <td>-1.375629</td>\n",
       "      <td>-1.817808</td>\n",
       "      <td>0.646521</td>\n",
       "      <td>0.830747</td>\n",
       "      <td>1</td>\n",
       "    </tr>\n",
       "    <tr>\n",
       "      <th>4</th>\n",
       "      <td>0.150222</td>\n",
       "      <td>-0.566097</td>\n",
       "      <td>0.854019</td>\n",
       "      <td>-1.784685</td>\n",
       "      <td>1</td>\n",
       "    </tr>\n",
       "    <tr>\n",
       "      <th>...</th>\n",
       "      <td>...</td>\n",
       "      <td>...</td>\n",
       "      <td>...</td>\n",
       "      <td>...</td>\n",
       "      <td>...</td>\n",
       "    </tr>\n",
       "    <tr>\n",
       "      <th>1495</th>\n",
       "      <td>1.354191</td>\n",
       "      <td>0.903298</td>\n",
       "      <td>1.118973</td>\n",
       "      <td>-0.556256</td>\n",
       "      <td>0</td>\n",
       "    </tr>\n",
       "    <tr>\n",
       "      <th>1496</th>\n",
       "      <td>1.658666</td>\n",
       "      <td>0.476031</td>\n",
       "      <td>-0.359034</td>\n",
       "      <td>-0.048651</td>\n",
       "      <td>0</td>\n",
       "    </tr>\n",
       "    <tr>\n",
       "      <th>1497</th>\n",
       "      <td>3.617558</td>\n",
       "      <td>-0.444879</td>\n",
       "      <td>0.339925</td>\n",
       "      <td>-0.910719</td>\n",
       "      <td>0</td>\n",
       "    </tr>\n",
       "    <tr>\n",
       "      <th>1498</th>\n",
       "      <td>2.765317</td>\n",
       "      <td>2.484525</td>\n",
       "      <td>-0.818567</td>\n",
       "      <td>-0.103218</td>\n",
       "      <td>0</td>\n",
       "    </tr>\n",
       "    <tr>\n",
       "      <th>1499</th>\n",
       "      <td>2.213870</td>\n",
       "      <td>0.047347</td>\n",
       "      <td>0.175378</td>\n",
       "      <td>0.448548</td>\n",
       "      <td>0</td>\n",
       "    </tr>\n",
       "  </tbody>\n",
       "</table>\n",
       "<p>1500 rows × 5 columns</p>\n",
       "</div>"
      ],
      "text/plain": [
       "           pc1       pc2       pc3       pc4  is_genuine\n",
       "0     1.647524  0.746876  2.392915  3.186405           1\n",
       "1    -2.019703 -2.206746 -1.002619  0.070913           1\n",
       "2    -0.969007  2.619321  1.201967 -0.921319           1\n",
       "3    -1.375629 -1.817808  0.646521  0.830747           1\n",
       "4     0.150222 -0.566097  0.854019 -1.784685           1\n",
       "...        ...       ...       ...       ...         ...\n",
       "1495  1.354191  0.903298  1.118973 -0.556256           0\n",
       "1496  1.658666  0.476031 -0.359034 -0.048651           0\n",
       "1497  3.617558 -0.444879  0.339925 -0.910719           0\n",
       "1498  2.765317  2.484525 -0.818567 -0.103218           0\n",
       "1499  2.213870  0.047347  0.175378  0.448548           0\n",
       "\n",
       "[1500 rows x 5 columns]"
      ]
     },
     "execution_count": 17,
     "metadata": {},
     "output_type": "execute_result"
    }
   ],
   "source": [
    "df1['is_genuine'] = y\n",
    "df1"
   ]
  },
  {
   "cell_type": "markdown",
   "id": "b05ebb0a",
   "metadata": {},
   "source": [
    "## Random Forest"
   ]
  },
  {
   "cell_type": "code",
   "execution_count": 19,
   "id": "07fcf0ef",
   "metadata": {
    "ExecuteTime": {
     "end_time": "2023-03-24T09:53:14.271192Z",
     "start_time": "2023-03-24T09:53:14.255489Z"
    }
   },
   "outputs": [],
   "source": [
    "x=df1.iloc[:,:-1]\n",
    "y=df1['is_genuine']"
   ]
  },
  {
   "cell_type": "code",
   "execution_count": 21,
   "id": "3cbf90e3",
   "metadata": {
    "ExecuteTime": {
     "end_time": "2023-03-24T09:57:57.370990Z",
     "start_time": "2023-03-24T09:57:57.339525Z"
    }
   },
   "outputs": [],
   "source": [
    "rf_model = RandomForestClassifier(n_estimators=50, max_features=\"auto\", random_state=44)"
   ]
  },
  {
   "cell_type": "code",
   "execution_count": 23,
   "id": "f6bbf101",
   "metadata": {
    "ExecuteTime": {
     "end_time": "2023-03-24T09:58:50.442387Z",
     "start_time": "2023-03-24T09:58:50.416562Z"
    }
   },
   "outputs": [],
   "source": [
    "xtrain,xtest,ytrain,ytest = train_test_split(x,y,test_size=0.2, random_state=42, stratify=y)"
   ]
  },
  {
   "cell_type": "code",
   "execution_count": 27,
   "id": "7f4f3f6a",
   "metadata": {
    "ExecuteTime": {
     "end_time": "2023-03-24T10:00:07.099865Z",
     "start_time": "2023-03-24T10:00:06.909788Z"
    }
   },
   "outputs": [],
   "source": [
    "model=rf_model.fit(xtrain, ytrain)"
   ]
  },
  {
   "cell_type": "code",
   "execution_count": 28,
   "id": "55758dc4",
   "metadata": {
    "ExecuteTime": {
     "end_time": "2023-03-24T10:00:11.166342Z",
     "start_time": "2023-03-24T10:00:11.138840Z"
    }
   },
   "outputs": [
    {
     "data": {
      "text/plain": [
       "0.9866666666666667"
      ]
     },
     "execution_count": 28,
     "metadata": {},
     "output_type": "execute_result"
    }
   ],
   "source": [
    "rf_model.score(xtest,ytest)"
   ]
  },
  {
   "cell_type": "code",
   "execution_count": 29,
   "id": "dd8dbee3",
   "metadata": {
    "ExecuteTime": {
     "end_time": "2023-03-24T10:00:14.762361Z",
     "start_time": "2023-03-24T10:00:14.730598Z"
    }
   },
   "outputs": [],
   "source": [
    "ypred = rf_model.predict(xtest)"
   ]
  },
  {
   "cell_type": "code",
   "execution_count": 30,
   "id": "588f2ca5",
   "metadata": {
    "ExecuteTime": {
     "end_time": "2023-03-24T10:00:16.656667Z",
     "start_time": "2023-03-24T10:00:16.631762Z"
    }
   },
   "outputs": [
    {
     "data": {
      "text/plain": [
       "array([1, 0, 0, 1, 1, 1, 1, 1, 1, 1, 0, 1, 0, 0, 1, 0, 1, 1, 1, 1, 0, 0,\n",
       "       0, 1, 0, 1, 1, 0, 1, 0, 0, 1, 1, 1, 0, 1, 1, 1, 1, 0, 1, 1, 1, 0,\n",
       "       1, 1, 1, 1, 0, 1, 1, 1, 1, 1, 1, 1, 0, 0, 0, 0, 0, 1, 1, 1, 1, 1,\n",
       "       0, 0, 1, 0, 0, 1, 0, 1, 0, 1, 1, 1, 1, 1, 1, 0, 1, 0, 0, 0, 1, 1,\n",
       "       1, 1, 0, 0, 1, 0, 1, 0, 0, 1, 1, 0, 0, 1, 1, 1, 1, 0, 1, 1, 0, 1,\n",
       "       0, 0, 1, 1, 1, 0, 1, 1, 1, 1, 1, 0, 1, 1, 1, 1, 0, 1, 0, 0, 1, 1,\n",
       "       1, 0, 1, 1, 1, 1, 1, 0, 0, 1, 1, 0, 1, 1, 1, 1, 0, 1, 1, 1, 1, 1,\n",
       "       1, 1, 1, 1, 1, 1, 0, 1, 0, 1, 1, 1, 1, 1, 0, 0, 1, 1, 1, 0, 1, 1,\n",
       "       1, 1, 1, 0, 1, 1, 1, 1, 1, 0, 1, 0, 0, 1, 1, 1, 1, 1, 1, 0, 1, 1,\n",
       "       1, 1, 1, 1, 0, 1, 1, 1, 0, 1, 0, 1, 0, 1, 0, 1, 1, 0, 0, 1, 1, 0,\n",
       "       0, 1, 1, 0, 1, 0, 1, 1, 0, 1, 1, 1, 1, 0, 1, 0, 0, 1, 0, 1, 1, 0,\n",
       "       1, 0, 1, 1, 1, 1, 0, 1, 1, 1, 1, 1, 1, 0, 1, 1, 1, 1, 1, 1, 1, 1,\n",
       "       1, 1, 1, 0, 1, 1, 0, 0, 1, 1, 1, 0, 1, 1, 0, 1, 1, 0, 1, 0, 1, 1,\n",
       "       1, 0, 1, 1, 0, 0, 1, 1, 0, 0, 1, 1, 0, 1], dtype=int64)"
      ]
     },
     "execution_count": 30,
     "metadata": {},
     "output_type": "execute_result"
    }
   ],
   "source": [
    "ypred"
   ]
  },
  {
   "cell_type": "code",
   "execution_count": 31,
   "id": "bb6ccad4",
   "metadata": {
    "ExecuteTime": {
     "end_time": "2023-03-24T10:00:31.256957Z",
     "start_time": "2023-03-24T10:00:31.225289Z"
    }
   },
   "outputs": [
    {
     "data": {
      "text/plain": [
       "array([[ 96,   4],\n",
       "       [  0, 200]], dtype=int64)"
      ]
     },
     "execution_count": 31,
     "metadata": {},
     "output_type": "execute_result"
    }
   ],
   "source": [
    "confusion_matrix(ytest, ypred)"
   ]
  },
  {
   "cell_type": "code",
   "execution_count": 32,
   "id": "54bccdb0",
   "metadata": {
    "ExecuteTime": {
     "end_time": "2023-03-24T10:00:43.843444Z",
     "start_time": "2023-03-24T10:00:43.812399Z"
    }
   },
   "outputs": [
    {
     "name": "stdout",
     "output_type": "stream",
     "text": [
      "              precision    recall  f1-score   support\n",
      "\n",
      "           0       1.00      0.96      0.98       100\n",
      "           1       0.98      1.00      0.99       200\n",
      "\n",
      "    accuracy                           0.99       300\n",
      "   macro avg       0.99      0.98      0.98       300\n",
      "weighted avg       0.99      0.99      0.99       300\n",
      "\n"
     ]
    }
   ],
   "source": [
    "print(classification_report(ytest,ypred))"
   ]
  },
  {
   "cell_type": "code",
   "execution_count": null,
   "id": "6cc5aafd",
   "metadata": {},
   "outputs": [],
   "source": []
  }
 ],
 "metadata": {
  "kernelspec": {
   "display_name": "Python 3 (ipykernel)",
   "language": "python",
   "name": "python3"
  },
  "language_info": {
   "codemirror_mode": {
    "name": "ipython",
    "version": 3
   },
   "file_extension": ".py",
   "mimetype": "text/x-python",
   "name": "python",
   "nbconvert_exporter": "python",
   "pygments_lexer": "ipython3",
   "version": "3.9.13"
  }
 },
 "nbformat": 4,
 "nbformat_minor": 5
}
