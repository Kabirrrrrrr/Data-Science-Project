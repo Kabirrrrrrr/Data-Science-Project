{
 "cells": [
  {
   "cell_type": "code",
   "execution_count": 1,
   "id": "4f3575ee",
   "metadata": {
    "ExecuteTime": {
     "end_time": "2023-03-26T06:13:31.699282Z",
     "start_time": "2023-03-26T06:13:28.495715Z"
    }
   },
   "outputs": [],
   "source": [
    "import pandas as pd\n",
    "import numpy as np\n",
    "import seaborn as sns\n",
    "import matplotlib.pyplot as plt\n",
    "%matplotlib inline\n",
    "from sklearn.ensemble import RandomForestClassifier\n",
    "from sklearn.model_selection import train_test_split"
   ]
  },
  {
   "cell_type": "code",
   "execution_count": 2,
   "id": "e35a1140",
   "metadata": {
    "ExecuteTime": {
     "end_time": "2023-03-26T06:13:31.730996Z",
     "start_time": "2023-03-26T06:13:31.699282Z"
    }
   },
   "outputs": [],
   "source": [
    "df=pd.read_csv(r\"D:\\Data Science\\Project\\fake_bills__cleaned.csv\", sep=',')"
   ]
  },
  {
   "cell_type": "code",
   "execution_count": 3,
   "id": "f6f44fec",
   "metadata": {
    "ExecuteTime": {
     "end_time": "2023-03-26T06:13:31.762280Z",
     "start_time": "2023-03-26T06:13:31.730996Z"
    }
   },
   "outputs": [],
   "source": [
    "df['is_genuine']=df['is_genuine'].map({1:'YES',0:'NO'})"
   ]
  },
  {
   "cell_type": "code",
   "execution_count": 4,
   "id": "9e7927e3",
   "metadata": {
    "ExecuteTime": {
     "end_time": "2023-03-26T06:13:31.777525Z",
     "start_time": "2023-03-26T06:13:31.768848Z"
    }
   },
   "outputs": [],
   "source": [
    "df.columns=['a','b','c','d','e','f','g']"
   ]
  },
  {
   "cell_type": "code",
   "execution_count": 5,
   "id": "031c9e4b",
   "metadata": {
    "ExecuteTime": {
     "end_time": "2023-03-26T06:13:31.793369Z",
     "start_time": "2023-03-26T06:13:31.784139Z"
    }
   },
   "outputs": [],
   "source": [
    "x=df.iloc[:,1:]\n",
    "y=df['a']"
   ]
  },
  {
   "cell_type": "code",
   "execution_count": 6,
   "id": "737effe6",
   "metadata": {
    "ExecuteTime": {
     "end_time": "2023-03-26T06:13:31.809353Z",
     "start_time": "2023-03-26T06:13:31.798029Z"
    }
   },
   "outputs": [
    {
     "data": {
      "text/plain": [
       "Index(['b', 'c', 'd', 'e', 'f', 'g'], dtype='object')"
      ]
     },
     "execution_count": 6,
     "metadata": {},
     "output_type": "execute_result"
    }
   ],
   "source": [
    "x.columns"
   ]
  },
  {
   "cell_type": "code",
   "execution_count": 7,
   "id": "c91d679d",
   "metadata": {
    "ExecuteTime": {
     "end_time": "2023-03-26T06:13:31.841501Z",
     "start_time": "2023-03-26T06:13:31.816472Z"
    }
   },
   "outputs": [],
   "source": [
    "xtrain,xtest,ytrain,ytest = train_test_split(x,y,test_size=0.2, random_state=42, stratify=y)"
   ]
  },
  {
   "cell_type": "code",
   "execution_count": 8,
   "id": "c55eb542",
   "metadata": {
    "ExecuteTime": {
     "end_time": "2023-03-26T06:13:31.857181Z",
     "start_time": "2023-03-26T06:13:31.843735Z"
    }
   },
   "outputs": [],
   "source": [
    "rf_model = RandomForestClassifier(n_estimators=50, max_features=\"auto\", random_state=44)"
   ]
  },
  {
   "cell_type": "code",
   "execution_count": 9,
   "id": "fdaa2f5d",
   "metadata": {
    "ExecuteTime": {
     "end_time": "2023-03-26T06:13:32.000277Z",
     "start_time": "2023-03-26T06:13:31.860173Z"
    }
   },
   "outputs": [],
   "source": [
    "model=rf_model.fit(xtrain, ytrain)"
   ]
  },
  {
   "cell_type": "code",
   "execution_count": 10,
   "id": "1b367d57",
   "metadata": {
    "ExecuteTime": {
     "end_time": "2023-03-26T06:13:32.031842Z",
     "start_time": "2023-03-26T06:13:32.002045Z"
    }
   },
   "outputs": [
    {
     "data": {
      "text/plain": [
       "0.99"
      ]
     },
     "execution_count": 10,
     "metadata": {},
     "output_type": "execute_result"
    }
   ],
   "source": [
    "model.score(xtest,ytest)"
   ]
  },
  {
   "cell_type": "code",
   "execution_count": 11,
   "id": "6ee52356",
   "metadata": {
    "ExecuteTime": {
     "end_time": "2023-03-26T06:13:32.047820Z",
     "start_time": "2023-03-26T06:13:32.036278Z"
    }
   },
   "outputs": [],
   "source": [
    "import pickle\n",
    "\n",
    "pickle.dump(model, open('fake_bills_pickle5.pkl','wb'))"
   ]
  }
 ],
 "metadata": {
  "kernelspec": {
   "display_name": "Python 3 (ipykernel)",
   "language": "python",
   "name": "python3"
  },
  "language_info": {
   "codemirror_mode": {
    "name": "ipython",
    "version": 3
   },
   "file_extension": ".py",
   "mimetype": "text/x-python",
   "name": "python",
   "nbconvert_exporter": "python",
   "pygments_lexer": "ipython3",
   "version": "3.9.13"
  }
 },
 "nbformat": 4,
 "nbformat_minor": 5
}
